{
 "cells": [
  {
   "cell_type": "code",
   "execution_count": null,
   "id": "05f73587-9b7e-43c7-9574-529f69608ccc",
   "metadata": {},
   "outputs": [],
   "source": [
    "hello"
   ]
  },
  {
   "cell_type": "markdown",
   "id": "f07ca879-e93f-4986-879f-33f9cd6a9451",
   "metadata": {},
   "source": [
    "# Shortcuts for Command Mode\n",
    "Enter :Change to edit mode\n",
    "- ## A : Add a cell above\n",
    "- ## B : Add a cell below\n",
    "- ## Alt + ↑: Move cell up\n",
    "- ## Alt + ↓: Move cell down\n",
    "- ## Alt + Shift + ↑: Copy cell downwards (focus remains on current cell)\n",
    "- ## Alt + Shift + ↓: Copy cell downwards (focus moves to new cell)\n",
    "- ## dd : Delete a selected cell\n",
    "- ## z : Undo the last change\n",
    "- ## L : Enable/Disable line numbers\n",
    "- ## M : switch the cell type from Code to Markdown\n",
    "- ## Y : switch the cell type from Markdown to Code\n",
    "- # Shortcuts for Edit Mode\n",
    "- ## Esc : Change to command mode\n",
    "- ## Alt + Shift + ↑: Copy current line text downwards (focus remains on current line)\n",
    "- ## Alt + Shift + ↓: Copy current line text downwards (focus moves to next line)\n",
    "- ## Ctrl+Enter/Shift+Enter: To render Markdown cell\n",
    "- ## Shortcuts for both the Modes\n",
    "- ## Ctrl+Enter : Run the currently selected cell\n",
    "- ## Shift+Enter : Run the currently selected cell and focus moves to new cell\n",
    "- ## Alt+Enter : Run the currently selected cell and insert a new cell immediately below (focus moves to new cell)"
   ]
  }
 ],
 "metadata": {
  "kernelspec": {
   "display_name": "Python 3 (ipykernel)",
   "language": "python",
   "name": "python3"
  },
  "language_info": {
   "codemirror_mode": {
    "name": "ipython",
    "version": 3
   },
   "file_extension": ".py",
   "mimetype": "text/x-python",
   "name": "python",
   "nbconvert_exporter": "python",
   "pygments_lexer": "ipython3",
   "version": "3.12.8"
  }
 },
 "nbformat": 4,
 "nbformat_minor": 5
}
